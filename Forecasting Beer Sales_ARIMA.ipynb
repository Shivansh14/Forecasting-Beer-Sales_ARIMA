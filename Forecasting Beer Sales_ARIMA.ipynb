{
 "cells": [
  {
   "cell_type": "code",
   "execution_count": 1,
   "metadata": {},
   "outputs": [],
   "source": [
    "import pandas as pd\n",
    "import numpy as np\n",
    "import warnings\n",
    "import itertools\n",
    "import numpy as np\n",
    "import matplotlib.pyplot as plt\n",
    "warnings.filterwarnings(\"ignore\")\n",
    "plt.style.use('fivethirtyeight')\n",
    "import pandas as pd\n",
    "import statsmodels.api as sm\n",
    "import matplotlib"
   ]
  },
  {
   "cell_type": "code",
   "execution_count": 9,
   "metadata": {},
   "outputs": [],
   "source": [
    "df=pd.read_csv(r\"C:\\Users\\shiva\\OneDrive\\Desktop\\Beer.csv\",parse_dates=[\"Month\"])"
   ]
  },
  {
   "cell_type": "code",
   "execution_count": 10,
   "metadata": {},
   "outputs": [
    {
     "data": {
      "text/html": [
       "<div>\n",
       "<style scoped>\n",
       "    .dataframe tbody tr th:only-of-type {\n",
       "        vertical-align: middle;\n",
       "    }\n",
       "\n",
       "    .dataframe tbody tr th {\n",
       "        vertical-align: top;\n",
       "    }\n",
       "\n",
       "    .dataframe thead th {\n",
       "        text-align: right;\n",
       "    }\n",
       "</style>\n",
       "<table border=\"1\" class=\"dataframe\">\n",
       "  <thead>\n",
       "    <tr style=\"text-align: right;\">\n",
       "      <th></th>\n",
       "      <th>Month</th>\n",
       "      <th>Monthly beer production</th>\n",
       "    </tr>\n",
       "  </thead>\n",
       "  <tbody>\n",
       "    <tr>\n",
       "      <th>0</th>\n",
       "      <td>1956-01-01</td>\n",
       "      <td>93.2</td>\n",
       "    </tr>\n",
       "    <tr>\n",
       "      <th>1</th>\n",
       "      <td>1956-02-01</td>\n",
       "      <td>96.0</td>\n",
       "    </tr>\n",
       "    <tr>\n",
       "      <th>2</th>\n",
       "      <td>1956-03-01</td>\n",
       "      <td>95.2</td>\n",
       "    </tr>\n",
       "    <tr>\n",
       "      <th>3</th>\n",
       "      <td>1956-04-01</td>\n",
       "      <td>77.1</td>\n",
       "    </tr>\n",
       "    <tr>\n",
       "      <th>4</th>\n",
       "      <td>1956-05-01</td>\n",
       "      <td>70.9</td>\n",
       "    </tr>\n",
       "    <tr>\n",
       "      <th>...</th>\n",
       "      <td>...</td>\n",
       "      <td>...</td>\n",
       "    </tr>\n",
       "    <tr>\n",
       "      <th>471</th>\n",
       "      <td>1995-04-01</td>\n",
       "      <td>127.0</td>\n",
       "    </tr>\n",
       "    <tr>\n",
       "      <th>472</th>\n",
       "      <td>1995-05-01</td>\n",
       "      <td>151.0</td>\n",
       "    </tr>\n",
       "    <tr>\n",
       "      <th>473</th>\n",
       "      <td>1995-06-01</td>\n",
       "      <td>130.0</td>\n",
       "    </tr>\n",
       "    <tr>\n",
       "      <th>474</th>\n",
       "      <td>1995-07-01</td>\n",
       "      <td>119.0</td>\n",
       "    </tr>\n",
       "    <tr>\n",
       "      <th>475</th>\n",
       "      <td>1995-08-01</td>\n",
       "      <td>153.0</td>\n",
       "    </tr>\n",
       "  </tbody>\n",
       "</table>\n",
       "<p>476 rows × 2 columns</p>\n",
       "</div>"
      ],
      "text/plain": [
       "         Month  Monthly beer production\n",
       "0   1956-01-01                     93.2\n",
       "1   1956-02-01                     96.0\n",
       "2   1956-03-01                     95.2\n",
       "3   1956-04-01                     77.1\n",
       "4   1956-05-01                     70.9\n",
       "..         ...                      ...\n",
       "471 1995-04-01                    127.0\n",
       "472 1995-05-01                    151.0\n",
       "473 1995-06-01                    130.0\n",
       "474 1995-07-01                    119.0\n",
       "475 1995-08-01                    153.0\n",
       "\n",
       "[476 rows x 2 columns]"
      ]
     },
     "execution_count": 10,
     "metadata": {},
     "output_type": "execute_result"
    }
   ],
   "source": [
    "df"
   ]
  },
  {
   "cell_type": "code",
   "execution_count": 11,
   "metadata": {},
   "outputs": [],
   "source": [
    "df = df.groupby('Month')['Monthly beer production'].sum().reset_index()"
   ]
  },
  {
   "cell_type": "code",
   "execution_count": 12,
   "metadata": {},
   "outputs": [
    {
     "data": {
      "text/html": [
       "<div>\n",
       "<style scoped>\n",
       "    .dataframe tbody tr th:only-of-type {\n",
       "        vertical-align: middle;\n",
       "    }\n",
       "\n",
       "    .dataframe tbody tr th {\n",
       "        vertical-align: top;\n",
       "    }\n",
       "\n",
       "    .dataframe thead th {\n",
       "        text-align: right;\n",
       "    }\n",
       "</style>\n",
       "<table border=\"1\" class=\"dataframe\">\n",
       "  <thead>\n",
       "    <tr style=\"text-align: right;\">\n",
       "      <th></th>\n",
       "      <th>Month</th>\n",
       "      <th>Monthly beer production</th>\n",
       "    </tr>\n",
       "  </thead>\n",
       "  <tbody>\n",
       "    <tr>\n",
       "      <th>0</th>\n",
       "      <td>1956-01-01</td>\n",
       "      <td>93.2</td>\n",
       "    </tr>\n",
       "    <tr>\n",
       "      <th>1</th>\n",
       "      <td>1956-02-01</td>\n",
       "      <td>96.0</td>\n",
       "    </tr>\n",
       "    <tr>\n",
       "      <th>2</th>\n",
       "      <td>1956-03-01</td>\n",
       "      <td>95.2</td>\n",
       "    </tr>\n",
       "    <tr>\n",
       "      <th>3</th>\n",
       "      <td>1956-04-01</td>\n",
       "      <td>77.1</td>\n",
       "    </tr>\n",
       "    <tr>\n",
       "      <th>4</th>\n",
       "      <td>1956-05-01</td>\n",
       "      <td>70.9</td>\n",
       "    </tr>\n",
       "    <tr>\n",
       "      <th>...</th>\n",
       "      <td>...</td>\n",
       "      <td>...</td>\n",
       "    </tr>\n",
       "    <tr>\n",
       "      <th>471</th>\n",
       "      <td>1995-04-01</td>\n",
       "      <td>127.0</td>\n",
       "    </tr>\n",
       "    <tr>\n",
       "      <th>472</th>\n",
       "      <td>1995-05-01</td>\n",
       "      <td>151.0</td>\n",
       "    </tr>\n",
       "    <tr>\n",
       "      <th>473</th>\n",
       "      <td>1995-06-01</td>\n",
       "      <td>130.0</td>\n",
       "    </tr>\n",
       "    <tr>\n",
       "      <th>474</th>\n",
       "      <td>1995-07-01</td>\n",
       "      <td>119.0</td>\n",
       "    </tr>\n",
       "    <tr>\n",
       "      <th>475</th>\n",
       "      <td>1995-08-01</td>\n",
       "      <td>153.0</td>\n",
       "    </tr>\n",
       "  </tbody>\n",
       "</table>\n",
       "<p>476 rows × 2 columns</p>\n",
       "</div>"
      ],
      "text/plain": [
       "         Month  Monthly beer production\n",
       "0   1956-01-01                     93.2\n",
       "1   1956-02-01                     96.0\n",
       "2   1956-03-01                     95.2\n",
       "3   1956-04-01                     77.1\n",
       "4   1956-05-01                     70.9\n",
       "..         ...                      ...\n",
       "471 1995-04-01                    127.0\n",
       "472 1995-05-01                    151.0\n",
       "473 1995-06-01                    130.0\n",
       "474 1995-07-01                    119.0\n",
       "475 1995-08-01                    153.0\n",
       "\n",
       "[476 rows x 2 columns]"
      ]
     },
     "execution_count": 12,
     "metadata": {},
     "output_type": "execute_result"
    }
   ],
   "source": [
    "df"
   ]
  },
  {
   "cell_type": "code",
   "execution_count": 13,
   "metadata": {},
   "outputs": [],
   "source": [
    "df=df.set_index('Month')"
   ]
  },
  {
   "cell_type": "code",
   "execution_count": 14,
   "metadata": {},
   "outputs": [
    {
     "data": {
      "text/html": [
       "<div>\n",
       "<style scoped>\n",
       "    .dataframe tbody tr th:only-of-type {\n",
       "        vertical-align: middle;\n",
       "    }\n",
       "\n",
       "    .dataframe tbody tr th {\n",
       "        vertical-align: top;\n",
       "    }\n",
       "\n",
       "    .dataframe thead th {\n",
       "        text-align: right;\n",
       "    }\n",
       "</style>\n",
       "<table border=\"1\" class=\"dataframe\">\n",
       "  <thead>\n",
       "    <tr style=\"text-align: right;\">\n",
       "      <th></th>\n",
       "      <th>Monthly beer production</th>\n",
       "    </tr>\n",
       "    <tr>\n",
       "      <th>Month</th>\n",
       "      <th></th>\n",
       "    </tr>\n",
       "  </thead>\n",
       "  <tbody>\n",
       "    <tr>\n",
       "      <th>1956-01-01</th>\n",
       "      <td>93.2</td>\n",
       "    </tr>\n",
       "    <tr>\n",
       "      <th>1956-02-01</th>\n",
       "      <td>96.0</td>\n",
       "    </tr>\n",
       "    <tr>\n",
       "      <th>1956-03-01</th>\n",
       "      <td>95.2</td>\n",
       "    </tr>\n",
       "    <tr>\n",
       "      <th>1956-04-01</th>\n",
       "      <td>77.1</td>\n",
       "    </tr>\n",
       "    <tr>\n",
       "      <th>1956-05-01</th>\n",
       "      <td>70.9</td>\n",
       "    </tr>\n",
       "    <tr>\n",
       "      <th>...</th>\n",
       "      <td>...</td>\n",
       "    </tr>\n",
       "    <tr>\n",
       "      <th>1995-04-01</th>\n",
       "      <td>127.0</td>\n",
       "    </tr>\n",
       "    <tr>\n",
       "      <th>1995-05-01</th>\n",
       "      <td>151.0</td>\n",
       "    </tr>\n",
       "    <tr>\n",
       "      <th>1995-06-01</th>\n",
       "      <td>130.0</td>\n",
       "    </tr>\n",
       "    <tr>\n",
       "      <th>1995-07-01</th>\n",
       "      <td>119.0</td>\n",
       "    </tr>\n",
       "    <tr>\n",
       "      <th>1995-08-01</th>\n",
       "      <td>153.0</td>\n",
       "    </tr>\n",
       "  </tbody>\n",
       "</table>\n",
       "<p>476 rows × 1 columns</p>\n",
       "</div>"
      ],
      "text/plain": [
       "            Monthly beer production\n",
       "Month                              \n",
       "1956-01-01                     93.2\n",
       "1956-02-01                     96.0\n",
       "1956-03-01                     95.2\n",
       "1956-04-01                     77.1\n",
       "1956-05-01                     70.9\n",
       "...                             ...\n",
       "1995-04-01                    127.0\n",
       "1995-05-01                    151.0\n",
       "1995-06-01                    130.0\n",
       "1995-07-01                    119.0\n",
       "1995-08-01                    153.0\n",
       "\n",
       "[476 rows x 1 columns]"
      ]
     },
     "execution_count": 14,
     "metadata": {},
     "output_type": "execute_result"
    }
   ],
   "source": [
    "df"
   ]
  },
  {
   "cell_type": "code",
   "execution_count": 15,
   "metadata": {},
   "outputs": [
    {
     "data": {
      "text/plain": [
       "Month\n",
       "1956-03-31     94.800000\n",
       "1956-06-30     70.933333\n",
       "1956-09-30     75.633333\n",
       "1956-12-31    102.800000\n",
       "1957-03-31     87.333333\n",
       "                 ...    \n",
       "1994-09-30    137.666667\n",
       "1994-12-31    177.333333\n",
       "1995-03-31    142.000000\n",
       "1995-06-30    136.000000\n",
       "1995-09-30    136.000000\n",
       "Freq: Q-DEC, Name: Monthly beer production, Length: 159, dtype: float64"
      ]
     },
     "execution_count": 15,
     "metadata": {},
     "output_type": "execute_result"
    }
   ],
   "source": [
    "quarterly_resampled_data = df['Monthly beer production'].resample('Q').mean()\n",
    "quarterly_resampled_data "
   ]
  },
  {
   "cell_type": "code",
   "execution_count": 36,
   "metadata": {},
   "outputs": [
    {
     "name": "stdout",
     "output_type": "stream",
     "text": [
      "Examples of parameter combinations for Seasonal ARIMA...\n",
      "SARIMAX: (0, 0, 1) x (0, 0, 1, 4)\n",
      "SARIMAX: (0, 0, 1) x (0, 1, 0, 4)\n",
      "SARIMAX: (0, 1, 0) x (0, 1, 1, 4)\n",
      "SARIMAX: (0, 1, 0) x (1, 0, 0, 4)\n"
     ]
    }
   ],
   "source": [
    "p = d = q = range(0, 2)\n",
    "pdq = list(itertools.product(p, d, q))\n",
    "seasonal_pdq = [(x[0], x[1], x[2], 4) for x in list(itertools.product(p, d, q))]\n",
    "\n",
    "print('Examples of parameter combinations for Seasonal ARIMA...')\n",
    "print('SARIMAX: {} x {}'.format(pdq[1], seasonal_pdq[1]))\n",
    "print('SARIMAX: {} x {}'.format(pdq[1], seasonal_pdq[2]))\n",
    "print('SARIMAX: {} x {}'.format(pdq[2], seasonal_pdq[3]))\n",
    "print('SARIMAX: {} x {}'.format(pdq[2], seasonal_pdq[4]))"
   ]
  },
  {
   "cell_type": "code",
   "execution_count": 37,
   "metadata": {},
   "outputs": [
    {
     "data": {
      "text/plain": [
       "[(0, 0, 0, 4),\n",
       " (0, 0, 1, 4),\n",
       " (0, 1, 0, 4),\n",
       " (0, 1, 1, 4),\n",
       " (1, 0, 0, 4),\n",
       " (1, 0, 1, 4),\n",
       " (1, 1, 0, 4),\n",
       " (1, 1, 1, 4)]"
      ]
     },
     "execution_count": 37,
     "metadata": {},
     "output_type": "execute_result"
    }
   ],
   "source": [
    "seasonal_pdq"
   ]
  },
  {
   "cell_type": "code",
   "execution_count": 38,
   "metadata": {},
   "outputs": [
    {
     "data": {
      "text/plain": [
       "[(0, 0, 0),\n",
       " (0, 0, 1),\n",
       " (0, 1, 0),\n",
       " (0, 1, 1),\n",
       " (1, 0, 0),\n",
       " (1, 0, 1),\n",
       " (1, 1, 0),\n",
       " (1, 1, 1)]"
      ]
     },
     "execution_count": 38,
     "metadata": {},
     "output_type": "execute_result"
    }
   ],
   "source": [
    "pdq"
   ]
  },
  {
   "cell_type": "code",
   "execution_count": 39,
   "metadata": {},
   "outputs": [
    {
     "name": "stdout",
     "output_type": "stream",
     "text": [
      "ARIMA(0, 0, 0)x(0, 0, 0, 4)4 - AIC:2012.7487771812343\n",
      "ARIMA(0, 0, 0)x(0, 0, 1, 4)4 - AIC:1772.0360740565043\n",
      "ARIMA(0, 0, 0)x(0, 1, 0, 4)4 - AIC:1032.923602549216\n",
      "ARIMA(0, 0, 0)x(0, 1, 1, 4)4 - AIC:1010.8042428027064\n",
      "ARIMA(0, 0, 0)x(1, 0, 0, 4)4 - AIC:1037.2092845206691\n",
      "ARIMA(0, 0, 0)x(1, 0, 1, 4)4 - AIC:1031.676569352955\n",
      "ARIMA(0, 0, 0)x(1, 1, 0, 4)4 - AIC:1016.7268973286967\n",
      "ARIMA(0, 0, 0)x(1, 1, 1, 4)4 - AIC:1012.8019647471893\n",
      "ARIMA(0, 0, 1)x(0, 0, 0, 4)4 - AIC:1835.2787398537084\n",
      "ARIMA(0, 0, 1)x(0, 0, 1, 4)4 - AIC:1604.5013876517842\n",
      "ARIMA(0, 0, 1)x(0, 1, 0, 4)4 - AIC:1027.9571743137976\n",
      "ARIMA(0, 0, 1)x(0, 1, 1, 4)4 - AIC:1005.9955830308647\n"
     ]
    },
    {
     "name": "stderr",
     "output_type": "stream",
     "text": [
      "C:\\Users\\shiva\\Anaconda3\\lib\\site-packages\\statsmodels\\base\\model.py:568: ConvergenceWarning: Maximum Likelihood optimization failed to converge. Check mle_retvals\n",
      "  \"Check mle_retvals\", ConvergenceWarning)\n"
     ]
    },
    {
     "name": "stdout",
     "output_type": "stream",
     "text": [
      "ARIMA(0, 0, 1)x(1, 0, 0, 4)4 - AIC:1039.1862740300626\n",
      "ARIMA(0, 0, 1)x(1, 0, 1, 4)4 - AIC:1026.7094633155443\n",
      "ARIMA(0, 0, 1)x(1, 1, 0, 4)4 - AIC:1017.6096385065521\n",
      "ARIMA(0, 0, 1)x(1, 1, 1, 4)4 - AIC:1007.9617876548608\n",
      "ARIMA(0, 1, 0)x(0, 0, 0, 4)4 - AIC:1434.9939153564846\n",
      "ARIMA(0, 1, 0)x(0, 0, 1, 4)4 - AIC:1276.5993092198805\n",
      "ARIMA(0, 1, 0)x(0, 1, 0, 4)4 - AIC:1119.1452187668933\n",
      "ARIMA(0, 1, 0)x(0, 1, 1, 4)4 - AIC:1033.0221628196418\n",
      "ARIMA(0, 1, 0)x(1, 0, 0, 4)4 - AIC:1124.0195722302478\n",
      "ARIMA(0, 1, 0)x(1, 0, 1, 4)4 - AIC:1056.9733254699618\n",
      "ARIMA(0, 1, 0)x(1, 1, 0, 4)4 - AIC:1076.4980935925055\n",
      "ARIMA(0, 1, 0)x(1, 1, 1, 4)4 - AIC:1035.0191490944917\n",
      "ARIMA(0, 1, 1)x(0, 0, 0, 4)4 - AIC:1343.9221686681822\n",
      "ARIMA(0, 1, 1)x(0, 0, 1, 4)4 - AIC:1178.265455774123\n",
      "ARIMA(0, 1, 1)x(0, 1, 0, 4)4 - AIC:1002.3749198022688\n",
      "ARIMA(0, 1, 1)x(0, 1, 1, 4)4 - AIC:941.2856560612648\n",
      "ARIMA(0, 1, 1)x(1, 0, 0, 4)4 - AIC:1014.5933981435909\n",
      "ARIMA(0, 1, 1)x(1, 0, 1, 4)4 - AIC:965.4867042889616\n",
      "ARIMA(0, 1, 1)x(1, 1, 0, 4)4 - AIC:979.1522755960324\n",
      "ARIMA(0, 1, 1)x(1, 1, 1, 4)4 - AIC:943.4274931455896\n",
      "ARIMA(1, 0, 0)x(0, 0, 0, 4)4 - AIC:1445.320391507415\n",
      "ARIMA(1, 0, 0)x(0, 0, 1, 4)4 - AIC:1285.5673142203516\n",
      "ARIMA(1, 0, 0)x(0, 1, 0, 4)4 - AIC:1033.9137042560005\n",
      "ARIMA(1, 0, 0)x(0, 1, 1, 4)4 - AIC:1010.3988219009153\n",
      "ARIMA(1, 0, 0)x(1, 0, 0, 4)4 - AIC:1031.7529593563715\n",
      "ARIMA(1, 0, 0)x(1, 0, 1, 4)4 - AIC:1031.95435102687\n",
      "ARIMA(1, 0, 0)x(1, 1, 0, 4)4 - AIC:1010.4604728480352\n",
      "ARIMA(1, 0, 0)x(1, 1, 1, 4)4 - AIC:1012.3668563041775\n",
      "ARIMA(1, 0, 1)x(0, 0, 0, 4)4 - AIC:1352.2719951371591\n",
      "ARIMA(1, 0, 1)x(0, 0, 1, 4)4 - AIC:1186.3826241386753\n",
      "ARIMA(1, 0, 1)x(0, 1, 0, 4)4 - AIC:1008.7308029321592\n",
      "ARIMA(1, 0, 1)x(0, 1, 1, 4)4 - AIC:948.0761590808065\n",
      "ARIMA(1, 0, 1)x(1, 0, 0, 4)4 - AIC:1016.4697753638743\n",
      "ARIMA(1, 0, 1)x(1, 0, 1, 4)4 - AIC:972.885591671668\n",
      "ARIMA(1, 0, 1)x(1, 1, 0, 4)4 - AIC:978.601201924618\n",
      "ARIMA(1, 0, 1)x(1, 1, 1, 4)4 - AIC:950.3794083757916\n",
      "ARIMA(1, 1, 0)x(0, 0, 0, 4)4 - AIC:1429.1270276063656\n",
      "ARIMA(1, 1, 0)x(0, 0, 1, 4)4 - AIC:1260.1106386112326\n",
      "ARIMA(1, 1, 0)x(0, 1, 0, 4)4 - AIC:1046.3034709077397\n",
      "ARIMA(1, 1, 0)x(0, 1, 1, 4)4 - AIC:958.4713823764782\n",
      "ARIMA(1, 1, 0)x(1, 0, 0, 4)4 - AIC:1046.0638806963145\n",
      "ARIMA(1, 1, 0)x(1, 0, 1, 4)4 - AIC:980.479272990631\n",
      "ARIMA(1, 1, 0)x(1, 1, 0, 4)4 - AIC:995.2246159002508\n",
      "ARIMA(1, 1, 0)x(1, 1, 1, 4)4 - AIC:960.4569159234513\n",
      "ARIMA(1, 1, 1)x(0, 0, 0, 4)4 - AIC:1345.7922839258777\n",
      "ARIMA(1, 1, 1)x(0, 0, 1, 4)4 - AIC:1179.2995093639145\n",
      "ARIMA(1, 1, 1)x(0, 1, 0, 4)4 - AIC:997.9910629677581\n",
      "ARIMA(1, 1, 1)x(0, 1, 1, 4)4 - AIC:928.0470247020073\n",
      "ARIMA(1, 1, 1)x(1, 0, 0, 4)4 - AIC:1002.5068544797076\n",
      "ARIMA(1, 1, 1)x(1, 0, 1, 4)4 - AIC:950.8173132119714\n",
      "ARIMA(1, 1, 1)x(1, 1, 0, 4)4 - AIC:963.9910462090827\n",
      "ARIMA(1, 1, 1)x(1, 1, 1, 4)4 - AIC:930.0959348771511\n"
     ]
    }
   ],
   "source": [
    "for param in pdq:\n",
    "    for param_seasonal in seasonal_pdq:\n",
    "        try:\n",
    "            mod = sm.tsa.statespace.SARIMAX(quarterly_resampled_data,\n",
    "                                            order=param,\n",
    "                                            seasonal_order=param_seasonal,\n",
    "                                            enforce_stationarity=False,\n",
    "                                            enforce_invertibility=False)\n",
    "\n",
    "            results = mod.fit()\n",
    "\n",
    "            print('ARIMA{}x{}4 - AIC:{}'.format(param, param_seasonal, results.aic))\n",
    "        except:\n",
    "            continue"
   ]
  },
  {
   "cell_type": "code",
   "execution_count": null,
   "metadata": {},
   "outputs": [],
   "source": [
    "#lower AIC means a model is considered to be closer to the truth\n",
    "#The Order=(1,0,1) and seasonal order=(1,1,1,4) seem to give best results"
   ]
  },
  {
   "cell_type": "code",
   "execution_count": 43,
   "metadata": {},
   "outputs": [
    {
     "name": "stdout",
     "output_type": "stream",
     "text": [
      "==============================================================================\n",
      "                 coef    std err          z      P>|z|      [0.025      0.975]\n",
      "------------------------------------------------------------------------------\n",
      "ar.L1          0.9873      0.014     72.038      0.000       0.960       1.014\n",
      "ma.L1         -1.4070      0.110    -12.776      0.000      -1.623      -1.191\n",
      "ar.S.L4        0.1196      0.106      1.129      0.259      -0.088       0.327\n",
      "ma.S.L4       -0.7758      0.073    -10.610      0.000      -0.919      -0.632\n",
      "sigma2        15.8647      2.801      5.664      0.000      10.375      21.355\n",
      "==============================================================================\n"
     ]
    }
   ],
   "source": [
    "mod = sm.tsa.statespace.SARIMAX(quarterly_resampled_data,\n",
    "                                order=(1, 0, 1),\n",
    "                                seasonal_order=(1, 1, 1, 4),\n",
    "                                enforce_stationarity=False,\n",
    "                                enforce_invertibility=False)\n",
    "\n",
    "results = mod.fit()\n",
    "print(results.summary().tables[1])"
   ]
  },
  {
   "cell_type": "code",
   "execution_count": null,
   "metadata": {},
   "outputs": [],
   "source": [
    "#To help us understand the accuracy of our forecasts, we compare predicted sales to real sales of the time series \n",
    "#we set forecasts to start at 2017-01-01 to the end of the data."
   ]
  },
  {
   "cell_type": "code",
   "execution_count": 44,
   "metadata": {},
   "outputs": [],
   "source": [
    "pred = results.get_prediction(start=pd.to_datetime('1992-03-31'), dynamic=False)\n",
    "pred_ci = pred.conf_int()\n"
   ]
  },
  {
   "cell_type": "code",
   "execution_count": 45,
   "metadata": {},
   "outputs": [
    {
     "data": {
      "text/plain": [
       "<statsmodels.tsa.statespace.mlemodel.PredictionResultsWrapper at 0x1d723572308>"
      ]
     },
     "execution_count": 45,
     "metadata": {},
     "output_type": "execute_result"
    }
   ],
   "source": [
    "pred"
   ]
  },
  {
   "cell_type": "code",
   "execution_count": 46,
   "metadata": {},
   "outputs": [
    {
     "data": {
      "text/html": [
       "<div>\n",
       "<style scoped>\n",
       "    .dataframe tbody tr th:only-of-type {\n",
       "        vertical-align: middle;\n",
       "    }\n",
       "\n",
       "    .dataframe tbody tr th {\n",
       "        vertical-align: top;\n",
       "    }\n",
       "\n",
       "    .dataframe thead th {\n",
       "        text-align: right;\n",
       "    }\n",
       "</style>\n",
       "<table border=\"1\" class=\"dataframe\">\n",
       "  <thead>\n",
       "    <tr style=\"text-align: right;\">\n",
       "      <th></th>\n",
       "      <th>lower Monthly beer production</th>\n",
       "      <th>upper Monthly beer production</th>\n",
       "    </tr>\n",
       "    <tr>\n",
       "      <th>Month</th>\n",
       "      <th></th>\n",
       "      <th></th>\n",
       "    </tr>\n",
       "  </thead>\n",
       "  <tbody>\n",
       "    <tr>\n",
       "      <th>1992-03-31</th>\n",
       "      <td>146.707123</td>\n",
       "      <td>168.675544</td>\n",
       "    </tr>\n",
       "    <tr>\n",
       "      <th>1992-06-30</th>\n",
       "      <td>129.604250</td>\n",
       "      <td>151.572671</td>\n",
       "    </tr>\n",
       "    <tr>\n",
       "      <th>1992-09-30</th>\n",
       "      <td>131.452815</td>\n",
       "      <td>153.421236</td>\n",
       "    </tr>\n",
       "    <tr>\n",
       "      <th>1992-12-31</th>\n",
       "      <td>174.984177</td>\n",
       "      <td>196.952598</td>\n",
       "    </tr>\n",
       "    <tr>\n",
       "      <th>1993-03-31</th>\n",
       "      <td>136.868996</td>\n",
       "      <td>158.837417</td>\n",
       "    </tr>\n",
       "    <tr>\n",
       "      <th>1993-06-30</th>\n",
       "      <td>122.619892</td>\n",
       "      <td>144.588313</td>\n",
       "    </tr>\n",
       "    <tr>\n",
       "      <th>1993-09-30</th>\n",
       "      <td>127.347170</td>\n",
       "      <td>149.315591</td>\n",
       "    </tr>\n",
       "    <tr>\n",
       "      <th>1993-12-31</th>\n",
       "      <td>168.683865</td>\n",
       "      <td>190.652286</td>\n",
       "    </tr>\n",
       "    <tr>\n",
       "      <th>1994-03-31</th>\n",
       "      <td>132.273383</td>\n",
       "      <td>154.241804</td>\n",
       "    </tr>\n",
       "    <tr>\n",
       "      <th>1994-06-30</th>\n",
       "      <td>123.800468</td>\n",
       "      <td>145.768889</td>\n",
       "    </tr>\n",
       "    <tr>\n",
       "      <th>1994-09-30</th>\n",
       "      <td>122.612562</td>\n",
       "      <td>144.580983</td>\n",
       "    </tr>\n",
       "    <tr>\n",
       "      <th>1994-12-31</th>\n",
       "      <td>163.254524</td>\n",
       "      <td>185.222945</td>\n",
       "    </tr>\n",
       "    <tr>\n",
       "      <th>1995-03-31</th>\n",
       "      <td>134.594395</td>\n",
       "      <td>156.562816</td>\n",
       "    </tr>\n",
       "    <tr>\n",
       "      <th>1995-06-30</th>\n",
       "      <td>118.454195</td>\n",
       "      <td>140.422616</td>\n",
       "    </tr>\n",
       "    <tr>\n",
       "      <th>1995-09-30</th>\n",
       "      <td>124.884951</td>\n",
       "      <td>146.853372</td>\n",
       "    </tr>\n",
       "  </tbody>\n",
       "</table>\n",
       "</div>"
      ],
      "text/plain": [
       "            lower Monthly beer production  upper Monthly beer production\n",
       "Month                                                                   \n",
       "1992-03-31                     146.707123                     168.675544\n",
       "1992-06-30                     129.604250                     151.572671\n",
       "1992-09-30                     131.452815                     153.421236\n",
       "1992-12-31                     174.984177                     196.952598\n",
       "1993-03-31                     136.868996                     158.837417\n",
       "1993-06-30                     122.619892                     144.588313\n",
       "1993-09-30                     127.347170                     149.315591\n",
       "1993-12-31                     168.683865                     190.652286\n",
       "1994-03-31                     132.273383                     154.241804\n",
       "1994-06-30                     123.800468                     145.768889\n",
       "1994-09-30                     122.612562                     144.580983\n",
       "1994-12-31                     163.254524                     185.222945\n",
       "1995-03-31                     134.594395                     156.562816\n",
       "1995-06-30                     118.454195                     140.422616\n",
       "1995-09-30                     124.884951                     146.853372"
      ]
     },
     "execution_count": 46,
     "metadata": {},
     "output_type": "execute_result"
    }
   ],
   "source": [
    "#Confidence Interval of our Predicted Sales\n",
    "pred_ci"
   ]
  },
  {
   "cell_type": "code",
   "execution_count": 47,
   "metadata": {},
   "outputs": [
    {
     "data": {
      "text/plain": [
       "Month\n",
       "1992-03-31    147.666667\n",
       "1992-06-30    136.666667\n",
       "1992-09-30    140.000000\n",
       "1992-12-31    177.333333\n",
       "1993-03-31    144.000000\n",
       "1993-06-30    140.000000\n",
       "1993-09-30    137.000000\n",
       "1993-12-31    170.666667\n",
       "1994-03-31    149.666667\n",
       "1994-06-30    127.333333\n",
       "1994-09-30    137.666667\n",
       "1994-12-31    177.333333\n",
       "1995-03-31    142.000000\n",
       "1995-06-30    136.000000\n",
       "1995-09-30    136.000000\n",
       "Freq: Q-DEC, Name: Monthly beer production, dtype: float64"
      ]
     },
     "execution_count": 47,
     "metadata": {},
     "output_type": "execute_result"
    }
   ],
   "source": [
    "quarterly_resampled_data['1992':]"
   ]
  },
  {
   "cell_type": "code",
   "execution_count": 48,
   "metadata": {},
   "outputs": [
    {
     "name": "stdout",
     "output_type": "stream",
     "text": [
      "The Mean Squared Error of our forecasts is 34.2365136831714\n"
     ]
    }
   ],
   "source": [
    "quarterly_resampled_data_forecasted = pred.predicted_mean #Predicted Values\n",
    "quarterly_resampled_data_truth = quarterly_resampled_data['1992-03-31':] #Avctual Values\n",
    "\n",
    "# Compute the mean square error\n",
    "mse = ((quarterly_resampled_data_forecasted - quarterly_resampled_data_truth) ** 2).mean()\n",
    "print('The Mean Squared Error of our forecasts is {}'.format(mse))"
   ]
  },
  {
   "cell_type": "code",
   "execution_count": 49,
   "metadata": {},
   "outputs": [
    {
     "data": {
      "text/plain": [
       "Month\n",
       "1992-03-31    157.691333\n",
       "1992-06-30    140.588460\n",
       "1992-09-30    142.437026\n",
       "1992-12-31    185.968388\n",
       "1993-03-31    147.853206\n",
       "1993-06-30    133.604103\n",
       "1993-09-30    138.331381\n",
       "1993-12-31    179.668075\n",
       "1994-03-31    143.257594\n",
       "1994-06-30    134.784679\n",
       "1994-09-30    133.596773\n",
       "1994-12-31    174.238734\n",
       "1995-03-31    145.578605\n",
       "1995-06-30    129.438405\n",
       "1995-09-30    135.869162\n",
       "Freq: Q-DEC, dtype: float64"
      ]
     },
     "execution_count": 49,
     "metadata": {},
     "output_type": "execute_result"
    }
   ],
   "source": [
    "quarterly_resampled_data_forecasted"
   ]
  },
  {
   "cell_type": "code",
   "execution_count": 50,
   "metadata": {},
   "outputs": [
    {
     "name": "stdout",
     "output_type": "stream",
     "text": [
      "The Root Mean Squared Error of our forecasts is 5.85\n"
     ]
    }
   ],
   "source": [
    "print('The Root Mean Squared Error of our forecasts is {}'.format(round(np.sqrt(mse), 2)))"
   ]
  },
  {
   "cell_type": "code",
   "execution_count": 51,
   "metadata": {},
   "outputs": [
    {
     "data": {
      "text/plain": [
       "Month\n",
       "1992-03-31    147.666667\n",
       "1992-06-30    136.666667\n",
       "1992-09-30    140.000000\n",
       "1992-12-31    177.333333\n",
       "1993-03-31    144.000000\n",
       "1993-06-30    140.000000\n",
       "1993-09-30    137.000000\n",
       "1993-12-31    170.666667\n",
       "1994-03-31    149.666667\n",
       "1994-06-30    127.333333\n",
       "1994-09-30    137.666667\n",
       "1994-12-31    177.333333\n",
       "1995-03-31    142.000000\n",
       "1995-06-30    136.000000\n",
       "1995-09-30    136.000000\n",
       "Freq: Q-DEC, Name: Monthly beer production, dtype: float64"
      ]
     },
     "execution_count": 51,
     "metadata": {},
     "output_type": "execute_result"
    }
   ],
   "source": [
    "quarterly_resampled_data_truth"
   ]
  },
  {
   "cell_type": "code",
   "execution_count": 52,
   "metadata": {},
   "outputs": [],
   "source": [
    "#VISUALIZING RESULTS"
   ]
  },
  {
   "cell_type": "code",
   "execution_count": 53,
   "metadata": {},
   "outputs": [
    {
     "data": {
      "image/png": "[encoded data removed]",
      "text/plain": [
       "<Figure size 1008x504 with 1 Axes>"
      ]
     },
     "metadata": {},
     "output_type": "display_data"
    }
   ],
   "source": [
    "ax = quarterly_resampled_data['1956':].plot(label='observed')\n",
    "pred.predicted_mean.plot(ax=ax, label='One-step ahead Forecast', alpha=.7, figsize=(14, 7))\n",
    "\n",
    "ax.fill_between(pred_ci.index,\n",
    "                pred_ci.iloc[:, 0],\n",
    "                pred_ci.iloc[:, 1], color='k', alpha=.2)\n",
    "\n",
    "ax.set_xlabel('Date')\n",
    "ax.set_ylabel('Beer Production')\n",
    "plt.legend()\n",
    "\n",
    "plt.show()"
   ]
  },
  {
   "cell_type": "code",
   "execution_count": 54,
   "metadata": {},
   "outputs": [
    {
     "data": {
      "text/plain": [
       "(159,)"
      ]
     },
     "execution_count": 54,
     "metadata": {},
     "output_type": "execute_result"
    }
   ],
   "source": [
    "quarterly_resampled_data.shape"
   ]
  },
  {
   "cell_type": "code",
   "execution_count": 55,
   "metadata": {},
   "outputs": [
    {
     "data": {
      "text/plain": [
       "(476, 1)"
      ]
     },
     "execution_count": 55,
     "metadata": {},
     "output_type": "execute_result"
    }
   ],
   "source": [
    "df.shape"
   ]
  },
  {
   "cell_type": "code",
   "execution_count": null,
   "metadata": {},
   "outputs": [],
   "source": []
  }
 ],
 "metadata": {
  "kernelspec": {
   "display_name": "Python 3",
   "language": "python",
   "name": "python3"
  },
  "language_info": {
   "codemirror_mode": {
    "name": "ipython",
    "version": 3
   },
   "file_extension": ".py",
   "mimetype": "text/x-python",
   "name": "python",
   "nbconvert_exporter": "python",
   "pygments_lexer": "ipython3",
   "version": "3.7.6"
  }
 },
 "nbformat": 4,
 "nbformat_minor": 4
}
